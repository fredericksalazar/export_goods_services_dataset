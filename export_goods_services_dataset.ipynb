{
 "cells": [
  {
   "cell_type": "markdown",
   "metadata": {},
   "source": [
    "# NoteBook Ingest dataset export_goods_services_dataset\n",
    "\n",
    "***Author:*** Frederick salazar <br>\n",
    "***Data Source:*** https://datos.bancomundial.org/indicador/NE.EXP.GNFS.ZS?view=chart <br>\n",
    "***Description:*** This dataset contains data on exports of goods and services as a percentage of GDP for each country from 1960 to 2023. The data is obtained from the World Bank repository and exported in tabular form in CSV format."
   ]
  },
  {
   "cell_type": "markdown",
   "metadata": {},
   "source": [
    "## Importations and configurations"
   ]
  },
  {
   "cell_type": "code",
   "execution_count": 155,
   "metadata": {},
   "outputs": [],
   "source": [
    "#library importations\n",
    "\n",
    "import pandas as pd\n",
    "\n",
    "import os\n",
    "import requests\n",
    "import zipfile\n",
    "from io import BytesIO\n",
    "from unidecode import unidecode\n",
    "\n",
    "version = 1.0"
   ]
  },
  {
   "cell_type": "code",
   "execution_count": 156,
   "metadata": {},
   "outputs": [],
   "source": [
    "raw = './data/raw'\n",
    "processed_data = './data/processed'\n",
    "output_data = './data/output'\n",
    "\n",
    "output_dataset = './data/processed/export_goods_services_dataset.csv'"
   ]
  },
  {
   "cell_type": "code",
   "execution_count": 157,
   "metadata": {},
   "outputs": [],
   "source": [
    "def donwload_data(data_source_in):\n",
    "    \"\"\"this function get files from url and save it in the raw folder\n",
    "\n",
    "    Args:\n",
    "        data_source_in (String): url of the file to download\n",
    "    \"\"\"\n",
    "    response = requests.get(data_source_in)\n",
    "\n",
    "    if response.status_code == 200:\n",
    "        # Leer el contenido del archivo ZIP en memoria\n",
    "        zip_file = BytesIO(response.content)\n",
    "        \n",
    "        # Descomprimir el contenido del ZIP directamente en el directorio\n",
    "        with zipfile.ZipFile(zip_file) as z:\n",
    "            z.extractall(raw)"
   ]
  },
  {
   "cell_type": "markdown",
   "metadata": {},
   "source": [
    "## Download and read data"
   ]
  },
  {
   "cell_type": "code",
   "execution_count": 158,
   "metadata": {},
   "outputs": [],
   "source": [
    "#here use the function to donwload data from url\n",
    "donwload_data('https://api.worldbank.org/v2/es/indicator/NE.EXP.GNFS.ZS?downloadformat=csv')"
   ]
  },
  {
   "attachments": {},
   "cell_type": "markdown",
   "metadata": {},
   "source": [
    "## load data"
   ]
  },
  {
   "cell_type": "code",
   "execution_count": 159,
   "metadata": {},
   "outputs": [],
   "source": [
    "\n",
    "for file in os.listdir(raw):\n",
    "   if file.startswith('API_NE.EXP.GNFS.ZS_DS2_es_csv_v2_5037'):\n",
    "       df_exports = pd.read_csv(f'{raw}/{file}',\n",
    "                                sep=',',\n",
    "                                skiprows=4)\n",
    "       df_exports = df_exports.iloc[:, :-1]\n",
    "    \n",
    "   if file.startswith('Metadata_Country'):\n",
    "        df_metadata = pd.read_csv(f'{raw}/{file}',\n",
    "                                  sep=',',\n",
    "                                  skiprows=0)\n",
    "        df_metadata = df_metadata.iloc[:, :-1]"
   ]
  },
  {
   "attachments": {},
   "cell_type": "markdown",
   "metadata": {},
   "source": [
    "## Transform data"
   ]
  },
  {
   "cell_type": "code",
   "execution_count": 160,
   "metadata": {},
   "outputs": [
    {
     "name": "stderr",
     "output_type": "stream",
     "text": [
      "/var/folders/34/mqqssx0s7jd53nv2vzj0plc00000gn/T/ipykernel_26975/727079599.py:2: FutureWarning: DataFrame.applymap has been deprecated. Use DataFrame.map instead.\n",
      "  df_exports = df_exports.applymap(lambda x: x.upper() if type(x) == str else x)\n",
      "/var/folders/34/mqqssx0s7jd53nv2vzj0plc00000gn/T/ipykernel_26975/727079599.py:3: FutureWarning: DataFrame.applymap has been deprecated. Use DataFrame.map instead.\n",
      "  df_metadata = df_metadata.applymap(lambda x: x.upper() if type(x) == str else x)\n",
      "/var/folders/34/mqqssx0s7jd53nv2vzj0plc00000gn/T/ipykernel_26975/727079599.py:6: FutureWarning: DataFrame.applymap has been deprecated. Use DataFrame.map instead.\n",
      "  df_exports = df_exports.applymap(lambda x: unidecode(x) if type(x) == str else x)\n"
     ]
    }
   ],
   "source": [
    "#convertimos todos los strings en upper\n",
    "df_exports = df_exports.applymap(lambda x: x.upper() if type(x) == str else x)\n",
    "df_metadata = df_metadata.applymap(lambda x: x.upper() if type(x) == str else x)\n",
    "\n",
    "#delete acents\n",
    "df_exports = df_exports.applymap(lambda x: unidecode(x) if type(x) == str else x)"
   ]
  },
  {
   "cell_type": "code",
   "execution_count": 161,
   "metadata": {},
   "outputs": [],
   "source": [
    "#change from large table to long table\n",
    "df_exports = pd.melt(df_exports,\n",
    "                     id_vars=['Country Name', 'Country Code', 'Indicator Name', 'Indicator Code'],\n",
    "                     var_name='year',\n",
    "                     value_name='exports_of_goods_and_services')\n",
    "                             "
   ]
  },
  {
   "cell_type": "code",
   "execution_count": 162,
   "metadata": {},
   "outputs": [],
   "source": [
    "#change de column name\n",
    "df_exports.rename(columns={'Country Name': 'country_name',\n",
    "                           'Country Code': 'country_code',\n",
    "                           'Indicator Name': 'indicator_name',\n",
    "                           'Indicator Code': 'indicator_code'},\n",
    "                  inplace=True)\n",
    "\n",
    "df_metadata.rename(columns={'Country Name': 'country_name',\n",
    "                            'Country Code': 'country_code',\n",
    "                            'Region': 'region',\n",
    "                            'Income_Group': 'income_group'},\n",
    "                   inplace=True)"
   ]
  },
  {
   "cell_type": "code",
   "execution_count": 163,
   "metadata": {},
   "outputs": [],
   "source": [
    "df_exports['exports_of_goods_and_services'] = df_exports['exports_of_goods_and_services'].fillna(0)"
   ]
  },
  {
   "cell_type": "code",
   "execution_count": 164,
   "metadata": {},
   "outputs": [],
   "source": [
    "df_exports = pd.merge(df_exports, df_metadata, on='country_code', how='left')"
   ]
  },
  {
   "cell_type": "code",
   "execution_count": 165,
   "metadata": {},
   "outputs": [],
   "source": [
    "df_exports = df_exports[['country_name_x',\n",
    "                         'country_code',\n",
    "                         'region',\n",
    "                         'income_group',\n",
    "                         'indicator_name',\n",
    "                         'indicator_code',\n",
    "                         'year',\n",
    "                         'exports_of_goods_and_services']]\n",
    "\n",
    "df_exports.rename(columns={'country_name_x': 'country_name'}, inplace=True)"
   ]
  },
  {
   "cell_type": "code",
   "execution_count": 166,
   "metadata": {},
   "outputs": [
    {
     "data": {
      "text/html": [
       "<div>\n",
       "<style scoped>\n",
       "    .dataframe tbody tr th:only-of-type {\n",
       "        vertical-align: middle;\n",
       "    }\n",
       "\n",
       "    .dataframe tbody tr th {\n",
       "        vertical-align: top;\n",
       "    }\n",
       "\n",
       "    .dataframe thead th {\n",
       "        text-align: right;\n",
       "    }\n",
       "</style>\n",
       "<table border=\"1\" class=\"dataframe\">\n",
       "  <thead>\n",
       "    <tr style=\"text-align: right;\">\n",
       "      <th></th>\n",
       "      <th>country_name</th>\n",
       "      <th>country_code</th>\n",
       "      <th>region</th>\n",
       "      <th>income_group</th>\n",
       "      <th>indicator_name</th>\n",
       "      <th>indicator_code</th>\n",
       "      <th>year</th>\n",
       "      <th>exports_of_goods_and_services</th>\n",
       "    </tr>\n",
       "  </thead>\n",
       "  <tbody>\n",
       "    <tr>\n",
       "      <th>0</th>\n",
       "      <td>ARUBA</td>\n",
       "      <td>ABW</td>\n",
       "      <td>NaN</td>\n",
       "      <td>INGRESO ALTO</td>\n",
       "      <td>EXPORTACIONES DE BIENES Y SERVICIOS (% DEL PIB)</td>\n",
       "      <td>NE.EXP.GNFS.ZS</td>\n",
       "      <td>1960</td>\n",
       "      <td>0.000000</td>\n",
       "    </tr>\n",
       "    <tr>\n",
       "      <th>1</th>\n",
       "      <td>NaN</td>\n",
       "      <td>AFE</td>\n",
       "      <td>NaN</td>\n",
       "      <td>AGREGADOS</td>\n",
       "      <td>EXPORTACIONES DE BIENES Y SERVICIOS (% DEL PIB)</td>\n",
       "      <td>NE.EXP.GNFS.ZS</td>\n",
       "      <td>1960</td>\n",
       "      <td>0.000000</td>\n",
       "    </tr>\n",
       "    <tr>\n",
       "      <th>2</th>\n",
       "      <td>AFGANISTAN</td>\n",
       "      <td>AFG</td>\n",
       "      <td>ASIA MERIDIONAL</td>\n",
       "      <td>PAÍSES DE INGRESO BAJO</td>\n",
       "      <td>EXPORTACIONES DE BIENES Y SERVICIOS (% DEL PIB)</td>\n",
       "      <td>NE.EXP.GNFS.ZS</td>\n",
       "      <td>1960</td>\n",
       "      <td>0.000000</td>\n",
       "    </tr>\n",
       "    <tr>\n",
       "      <th>3</th>\n",
       "      <td>NaN</td>\n",
       "      <td>AFW</td>\n",
       "      <td>NaN</td>\n",
       "      <td>AGREGADOS</td>\n",
       "      <td>EXPORTACIONES DE BIENES Y SERVICIOS (% DEL PIB)</td>\n",
       "      <td>NE.EXP.GNFS.ZS</td>\n",
       "      <td>1960</td>\n",
       "      <td>0.000000</td>\n",
       "    </tr>\n",
       "    <tr>\n",
       "      <th>4</th>\n",
       "      <td>ANGOLA</td>\n",
       "      <td>AGO</td>\n",
       "      <td>ÁFRICA AL SUR DEL SAHARA (EXCLUIDO ALTOS INGRE...</td>\n",
       "      <td>PAÍSES DE INGRESO MEDIANO BAJO</td>\n",
       "      <td>EXPORTACIONES DE BIENES Y SERVICIOS (% DEL PIB)</td>\n",
       "      <td>NE.EXP.GNFS.ZS</td>\n",
       "      <td>1960</td>\n",
       "      <td>0.000000</td>\n",
       "    </tr>\n",
       "    <tr>\n",
       "      <th>...</th>\n",
       "      <td>...</td>\n",
       "      <td>...</td>\n",
       "      <td>...</td>\n",
       "      <td>...</td>\n",
       "      <td>...</td>\n",
       "      <td>...</td>\n",
       "      <td>...</td>\n",
       "      <td>...</td>\n",
       "    </tr>\n",
       "    <tr>\n",
       "      <th>17019</th>\n",
       "      <td>KOSOVO</td>\n",
       "      <td>XKX</td>\n",
       "      <td>EUROPA Y ASIA CENTRAL (EXCLUIDO ALTOS INGRESOS)</td>\n",
       "      <td>INGRESO MEDIANO ALTO</td>\n",
       "      <td>EXPORTACIONES DE BIENES Y SERVICIOS (% DEL PIB)</td>\n",
       "      <td>NE.EXP.GNFS.ZS</td>\n",
       "      <td>2023</td>\n",
       "      <td>39.640480</td>\n",
       "    </tr>\n",
       "    <tr>\n",
       "      <th>17020</th>\n",
       "      <td>YEMEN, REP. DEL</td>\n",
       "      <td>YEM</td>\n",
       "      <td>ORIENTE MEDIO Y NORTE DE ÁFRICA (EXCLUIDO ALTO...</td>\n",
       "      <td>PAÍSES DE INGRESO BAJO</td>\n",
       "      <td>EXPORTACIONES DE BIENES Y SERVICIOS (% DEL PIB)</td>\n",
       "      <td>NE.EXP.GNFS.ZS</td>\n",
       "      <td>2023</td>\n",
       "      <td>0.000000</td>\n",
       "    </tr>\n",
       "    <tr>\n",
       "      <th>17021</th>\n",
       "      <td>SUDAFRICA</td>\n",
       "      <td>ZAF</td>\n",
       "      <td>ÁFRICA AL SUR DEL SAHARA (EXCLUIDO ALTOS INGRE...</td>\n",
       "      <td>INGRESO MEDIANO ALTO</td>\n",
       "      <td>EXPORTACIONES DE BIENES Y SERVICIOS (% DEL PIB)</td>\n",
       "      <td>NE.EXP.GNFS.ZS</td>\n",
       "      <td>2023</td>\n",
       "      <td>32.754527</td>\n",
       "    </tr>\n",
       "    <tr>\n",
       "      <th>17022</th>\n",
       "      <td>ZAMBIA</td>\n",
       "      <td>ZMB</td>\n",
       "      <td>ÁFRICA AL SUR DEL SAHARA (EXCLUIDO ALTOS INGRE...</td>\n",
       "      <td>PAÍSES DE INGRESO MEDIANO BAJO</td>\n",
       "      <td>EXPORTACIONES DE BIENES Y SERVICIOS (% DEL PIB)</td>\n",
       "      <td>NE.EXP.GNFS.ZS</td>\n",
       "      <td>2023</td>\n",
       "      <td>40.846124</td>\n",
       "    </tr>\n",
       "    <tr>\n",
       "      <th>17023</th>\n",
       "      <td>ZIMBABWE</td>\n",
       "      <td>ZWE</td>\n",
       "      <td>ÁFRICA AL SUR DEL SAHARA (EXCLUIDO ALTOS INGRE...</td>\n",
       "      <td>PAÍSES DE INGRESO MEDIANO BAJO</td>\n",
       "      <td>EXPORTACIONES DE BIENES Y SERVICIOS (% DEL PIB)</td>\n",
       "      <td>NE.EXP.GNFS.ZS</td>\n",
       "      <td>2023</td>\n",
       "      <td>21.579400</td>\n",
       "    </tr>\n",
       "  </tbody>\n",
       "</table>\n",
       "<p>17024 rows × 8 columns</p>\n",
       "</div>"
      ],
      "text/plain": [
       "          country_name country_code  \\\n",
       "0                ARUBA          ABW   \n",
       "1                  NaN          AFE   \n",
       "2           AFGANISTAN          AFG   \n",
       "3                  NaN          AFW   \n",
       "4               ANGOLA          AGO   \n",
       "...                ...          ...   \n",
       "17019           KOSOVO          XKX   \n",
       "17020  YEMEN, REP. DEL          YEM   \n",
       "17021        SUDAFRICA          ZAF   \n",
       "17022           ZAMBIA          ZMB   \n",
       "17023         ZIMBABWE          ZWE   \n",
       "\n",
       "                                                  region  \\\n",
       "0                                                    NaN   \n",
       "1                                                    NaN   \n",
       "2                                        ASIA MERIDIONAL   \n",
       "3                                                    NaN   \n",
       "4      ÁFRICA AL SUR DEL SAHARA (EXCLUIDO ALTOS INGRE...   \n",
       "...                                                  ...   \n",
       "17019    EUROPA Y ASIA CENTRAL (EXCLUIDO ALTOS INGRESOS)   \n",
       "17020  ORIENTE MEDIO Y NORTE DE ÁFRICA (EXCLUIDO ALTO...   \n",
       "17021  ÁFRICA AL SUR DEL SAHARA (EXCLUIDO ALTOS INGRE...   \n",
       "17022  ÁFRICA AL SUR DEL SAHARA (EXCLUIDO ALTOS INGRE...   \n",
       "17023  ÁFRICA AL SUR DEL SAHARA (EXCLUIDO ALTOS INGRE...   \n",
       "\n",
       "                         income_group  \\\n",
       "0                        INGRESO ALTO   \n",
       "1                           AGREGADOS   \n",
       "2              PAÍSES DE INGRESO BAJO   \n",
       "3                           AGREGADOS   \n",
       "4      PAÍSES DE INGRESO MEDIANO BAJO   \n",
       "...                               ...   \n",
       "17019            INGRESO MEDIANO ALTO   \n",
       "17020          PAÍSES DE INGRESO BAJO   \n",
       "17021            INGRESO MEDIANO ALTO   \n",
       "17022  PAÍSES DE INGRESO MEDIANO BAJO   \n",
       "17023  PAÍSES DE INGRESO MEDIANO BAJO   \n",
       "\n",
       "                                        indicator_name  indicator_code  year  \\\n",
       "0      EXPORTACIONES DE BIENES Y SERVICIOS (% DEL PIB)  NE.EXP.GNFS.ZS  1960   \n",
       "1      EXPORTACIONES DE BIENES Y SERVICIOS (% DEL PIB)  NE.EXP.GNFS.ZS  1960   \n",
       "2      EXPORTACIONES DE BIENES Y SERVICIOS (% DEL PIB)  NE.EXP.GNFS.ZS  1960   \n",
       "3      EXPORTACIONES DE BIENES Y SERVICIOS (% DEL PIB)  NE.EXP.GNFS.ZS  1960   \n",
       "4      EXPORTACIONES DE BIENES Y SERVICIOS (% DEL PIB)  NE.EXP.GNFS.ZS  1960   \n",
       "...                                                ...             ...   ...   \n",
       "17019  EXPORTACIONES DE BIENES Y SERVICIOS (% DEL PIB)  NE.EXP.GNFS.ZS  2023   \n",
       "17020  EXPORTACIONES DE BIENES Y SERVICIOS (% DEL PIB)  NE.EXP.GNFS.ZS  2023   \n",
       "17021  EXPORTACIONES DE BIENES Y SERVICIOS (% DEL PIB)  NE.EXP.GNFS.ZS  2023   \n",
       "17022  EXPORTACIONES DE BIENES Y SERVICIOS (% DEL PIB)  NE.EXP.GNFS.ZS  2023   \n",
       "17023  EXPORTACIONES DE BIENES Y SERVICIOS (% DEL PIB)  NE.EXP.GNFS.ZS  2023   \n",
       "\n",
       "       exports_of_goods_and_services  \n",
       "0                           0.000000  \n",
       "1                           0.000000  \n",
       "2                           0.000000  \n",
       "3                           0.000000  \n",
       "4                           0.000000  \n",
       "...                              ...  \n",
       "17019                      39.640480  \n",
       "17020                       0.000000  \n",
       "17021                      32.754527  \n",
       "17022                      40.846124  \n",
       "17023                      21.579400  \n",
       "\n",
       "[17024 rows x 8 columns]"
      ]
     },
     "execution_count": 166,
     "metadata": {},
     "output_type": "execute_result"
    }
   ],
   "source": [
    "df_exports"
   ]
  },
  {
   "cell_type": "markdown",
   "metadata": {},
   "source": [
    "## Save processed data"
   ]
  },
  {
   "cell_type": "code",
   "execution_count": 167,
   "metadata": {},
   "outputs": [],
   "source": [
    "df_exports.to_csv(output_dataset, index=False)"
   ]
  }
 ],
 "metadata": {
  "kernelspec": {
   "display_name": "data_analyst",
   "language": "python",
   "name": "python3"
  },
  "language_info": {
   "codemirror_mode": {
    "name": "ipython",
    "version": 3
   },
   "file_extension": ".py",
   "mimetype": "text/x-python",
   "name": "python",
   "nbconvert_exporter": "python",
   "pygments_lexer": "ipython3",
   "version": "3.10.16"
  },
  "orig_nbformat": 4
 },
 "nbformat": 4,
 "nbformat_minor": 2
}
