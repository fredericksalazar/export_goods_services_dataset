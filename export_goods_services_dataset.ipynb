{
 "cells": [
  {
   "cell_type": "markdown",
   "metadata": {},
   "source": [
    "# NoteBook Ingest dataset export_goods_services_dataset\n",
    "\n",
    "***Author:*** Frederick salazar <br>\n",
    "***Data Source:*** https://datos.bancomundial.org/indicador/NE.EXP.GNFS.ZS?view=chart <br>\n",
    "***Description:*** This dataset contains data on exports of goods and services as a percentage of GDP for each country from 1960 to 2023. The data is obtained from the World Bank repository and exported in tabular form in CSV format."
   ]
  },
  {
   "cell_type": "markdown",
   "metadata": {},
   "source": [
    "## Importations and configurations"
   ]
  },
  {
   "cell_type": "code",
   "execution_count": 315,
   "metadata": {},
   "outputs": [],
   "source": [
    "#library importations\n",
    "\n",
    "import pandas as pd\n",
    "\n",
    "import os\n",
    "import requests\n",
    "import zipfile\n",
    "from io import BytesIO\n",
    "from unidecode import unidecode\n",
    "\n",
    "version = 1.0"
   ]
  },
  {
   "cell_type": "code",
   "execution_count": 316,
   "metadata": {},
   "outputs": [],
   "source": [
    "#Path configurations\n",
    "\n",
    "raw = './data/raw'\n",
    "processed_data = './data/processed'\n",
    "output_data = './data/output'\n",
    "\n",
    "output_dataset = './data/processed/export_goods_services_countries_dataset.csv'"
   ]
  },
  {
   "cell_type": "code",
   "execution_count": 317,
   "metadata": {},
   "outputs": [],
   "source": [
    "def donwload_data(data_source_in):\n",
    "    \"\"\"this function get files from url and save it in the raw folder\n",
    "\n",
    "    Args:\n",
    "        data_source_in (String): url of the file to download\n",
    "    \"\"\"\n",
    "    response = requests.get(data_source_in)\n",
    "\n",
    "    if response.status_code == 200:\n",
    "        # Leer el contenido del archivo ZIP en memoria\n",
    "        zip_file = BytesIO(response.content)\n",
    "        \n",
    "        # Descomprimir el contenido del ZIP directamente en el directorio\n",
    "        with zipfile.ZipFile(zip_file) as z:\n",
    "            z.extractall(raw)"
   ]
  },
  {
   "cell_type": "markdown",
   "metadata": {},
   "source": [
    "## Download and read data"
   ]
  },
  {
   "cell_type": "code",
   "execution_count": 318,
   "metadata": {},
   "outputs": [],
   "source": [
    "#here use the function to donwload data from url\n",
    "donwload_data('https://api.worldbank.org/v2/es/indicator/NE.EXP.GNFS.ZS?downloadformat=csv')"
   ]
  },
  {
   "attachments": {},
   "cell_type": "markdown",
   "metadata": {},
   "source": [
    "## load data"
   ]
  },
  {
   "cell_type": "code",
   "execution_count": 319,
   "metadata": {},
   "outputs": [
    {
     "name": "stdout",
     "output_type": "stream",
     "text": [
      "Metadata_Country_API_NE.EXP.GNFS.ZS_DS2_es_csv_v2_5037.csv\n",
      ".gitkeep\n",
      "API_NE.EXP.GNFS.ZS_DS2_es_csv_v2_5037.csv\n",
      "Metadata_Indicator_API_NE.EXP.GNFS.ZS_DS2_es_csv_v2_5037.csv\n",
      "country_codes_list.csv\n"
     ]
    }
   ],
   "source": [
    "for file in os.listdir(raw):\n",
    "    print(file)\n",
    "    #load data of exports\n",
    "    if file.startswith('API_NE.EXP.GNFS.ZS_DS2_es_csv_v2_5037'):\n",
    "        df_exports = pd.read_csv(f'{raw}/{file}',\n",
    "                                sep=',',\n",
    "                                skiprows=4)\n",
    "        df_exports = df_exports.iloc[:, :-1]\n",
    "\n",
    "    #load metadata of countries\n",
    "    if file.startswith('Metadata_Country'):\n",
    "        df_metadata = pd.read_csv(f'{raw}/{file}',\n",
    "                                    sep=',',\n",
    "                                    skiprows=0)\n",
    "        df_metadata = df_metadata.iloc[:, :-1]\n",
    "    \n",
    "    #load metadata of country codes\n",
    "    if file.startswith('country_codes_list'):\n",
    "        df_country_code = pd.read_csv(f'{raw}/{file}',\n",
    "                                    sep=',',\n",
    "                                    skiprows=0)"
   ]
  },
  {
   "attachments": {},
   "cell_type": "markdown",
   "metadata": {},
   "source": [
    "## Transform data"
   ]
  },
  {
   "cell_type": "markdown",
   "metadata": {},
   "source": [
    "### Select Columns"
   ]
  },
  {
   "cell_type": "code",
   "execution_count": 320,
   "metadata": {},
   "outputs": [],
   "source": [
    "df_country_code = df_country_code[['alpha-3',\n",
    "                                   'sub-region',\n",
    "                                   'intermediate-region']]"
   ]
  },
  {
   "cell_type": "markdown",
   "metadata": {},
   "source": [
    "### Format and columns transformations"
   ]
  },
  {
   "cell_type": "code",
   "execution_count": 321,
   "metadata": {},
   "outputs": [
    {
     "name": "stderr",
     "output_type": "stream",
     "text": [
      "/var/folders/34/mqqssx0s7jd53nv2vzj0plc00000gn/T/ipykernel_26975/489681352.py:2: FutureWarning: DataFrame.applymap has been deprecated. Use DataFrame.map instead.\n",
      "  df_exports = df_exports.applymap(lambda x: x.upper() if type(x) == str else x)\n",
      "/var/folders/34/mqqssx0s7jd53nv2vzj0plc00000gn/T/ipykernel_26975/489681352.py:3: FutureWarning: DataFrame.applymap has been deprecated. Use DataFrame.map instead.\n",
      "  df_metadata = df_metadata.applymap(lambda x: x.upper() if type(x) == str else x)\n",
      "/var/folders/34/mqqssx0s7jd53nv2vzj0plc00000gn/T/ipykernel_26975/489681352.py:4: FutureWarning: DataFrame.applymap has been deprecated. Use DataFrame.map instead.\n",
      "  df_country_code = df_country_code.applymap(lambda x: x.upper() if type(x) == str else x)\n",
      "/var/folders/34/mqqssx0s7jd53nv2vzj0plc00000gn/T/ipykernel_26975/489681352.py:7: FutureWarning: DataFrame.applymap has been deprecated. Use DataFrame.map instead.\n",
      "  df_exports = df_exports.applymap(lambda x: unidecode(x) if type(x) == str else x)\n"
     ]
    }
   ],
   "source": [
    "#convertimos todos los strings en upper\n",
    "df_exports = df_exports.applymap(lambda x: x.upper() if type(x) == str else x)\n",
    "df_metadata = df_metadata.applymap(lambda x: x.upper() if type(x) == str else x)\n",
    "df_country_code = df_country_code.applymap(lambda x: x.upper() if type(x) == str else x)\n",
    "\n",
    "#delete acents\n",
    "df_exports = df_exports.applymap(lambda x: unidecode(x) if type(x) == str else x)"
   ]
  },
  {
   "cell_type": "markdown",
   "metadata": {},
   "source": [
    "### Structure transformation"
   ]
  },
  {
   "cell_type": "code",
   "execution_count": 322,
   "metadata": {},
   "outputs": [],
   "source": [
    "#change from large table to long table\n",
    "df_exports = pd.melt(df_exports,\n",
    "                     id_vars=['Country Name', 'Country Code', 'Indicator Name', 'Indicator Code'],\n",
    "                     var_name='year',\n",
    "                     value_name='exports_of_goods_and_services')"
   ]
  },
  {
   "cell_type": "code",
   "execution_count": 323,
   "metadata": {},
   "outputs": [],
   "source": [
    "#change de column name\n",
    "df_exports.rename(columns={'Country Name': 'country_name',\n",
    "                           'Country Code': 'country_code',\n",
    "                           'Indicator Name': 'indicator_name',\n",
    "                           'Indicator Code': 'indicator_code'},\n",
    "                  inplace=True)\n",
    "\n",
    "df_metadata.rename(columns={'Country Name': 'country_name',\n",
    "                            'Country Code': 'country_code',\n",
    "                            'Region': 'region',\n",
    "                            'Income_Group': 'income_group'},\n",
    "                   inplace=True)\n",
    "\n",
    "df_country_code.rename(columns={'alpha-3': 'alpha_3',\n",
    "                                'sub-region': 'sub_region',\n",
    "                                'intermediate-region': 'intermediate_region'},\n",
    "                       inplace=True)"
   ]
  },
  {
   "cell_type": "code",
   "execution_count": 324,
   "metadata": {},
   "outputs": [],
   "source": [
    "df_exports['exports_of_goods_and_services'] = df_exports['exports_of_goods_and_services'].fillna(0)"
   ]
  },
  {
   "cell_type": "markdown",
   "metadata": {},
   "source": [
    "### Merge of dataframes"
   ]
  },
  {
   "cell_type": "code",
   "execution_count": 325,
   "metadata": {},
   "outputs": [],
   "source": [
    "df_exports = pd.merge(df_exports, \n",
    "                      df_metadata, \n",
    "                      on='country_code', how='left')"
   ]
  },
  {
   "cell_type": "code",
   "execution_count": 326,
   "metadata": {},
   "outputs": [],
   "source": [
    "df_exports = df_exports[['country_name_x',\n",
    "                         'country_code',\n",
    "                         'region',\n",
    "                         'income_group',\n",
    "                         'indicator_name',\n",
    "                         'indicator_code',\n",
    "                         'year',\n",
    "                         'exports_of_goods_and_services']]\n",
    "\n",
    "df_exports.rename(columns={'country_name_x': 'country_name'}, inplace=True)"
   ]
  },
  {
   "cell_type": "code",
   "execution_count": 327,
   "metadata": {},
   "outputs": [],
   "source": [
    "#get only countries\n",
    "df_exports_countries = pd.merge(df_exports,\n",
    "                                df_country_code,\n",
    "                                left_on='country_code',\n",
    "                                right_on='alpha_3',\n",
    "                                how='inner').drop(columns=['alpha_3'])\n",
    "\n",
    "#get only organizations exports data\n",
    "df_exports_organizations = df_exports[~df_exports['country_code'].isin(df_country_code['alpha_3'])]\n",
    "\n",
    "df_exports_countries = df_exports_countries[['country_code',\n",
    "                                             'country_name',\n",
    "                                             'region',\n",
    "                                             'sub_region',\n",
    "                                             'intermediate_region',\n",
    "                                             'indicator_code',\n",
    "                                             'indicator_name',\n",
    "                                             'year',\n",
    "                                             'exports_of_goods_and_services']]"
   ]
  },
  {
   "cell_type": "code",
   "execution_count": 328,
   "metadata": {},
   "outputs": [
    {
     "name": "stderr",
     "output_type": "stream",
     "text": [
      "/var/folders/34/mqqssx0s7jd53nv2vzj0plc00000gn/T/ipykernel_26975/450851505.py:2: SettingWithCopyWarning: \n",
      "A value is trying to be set on a copy of a slice from a DataFrame\n",
      "\n",
      "See the caveats in the documentation: https://pandas.pydata.org/pandas-docs/stable/user_guide/indexing.html#returning-a-view-versus-a-copy\n",
      "  df_exports_organizations.sort_values(by=['country_name', 'year'], inplace=True)\n"
     ]
    }
   ],
   "source": [
    "df_exports_countries.sort_values(by=['country_name', 'year'], inplace=True)\n",
    "df_exports_organizations.sort_values(by=['country_name', 'year'], inplace=True)"
   ]
  },
  {
   "cell_type": "markdown",
   "metadata": {},
   "source": [
    "## Save processed data"
   ]
  },
  {
   "cell_type": "code",
   "execution_count": 329,
   "metadata": {},
   "outputs": [],
   "source": [
    "df_exports_countries.to_csv(output_dataset, index=False)\n",
    "df_exports_organizations.to_csv(f'{processed_data}/export_goods_services_organizations.csv', index=False)"
   ]
  }
 ],
 "metadata": {
  "kernelspec": {
   "display_name": "data_analyst",
   "language": "python",
   "name": "python3"
  },
  "language_info": {
   "codemirror_mode": {
    "name": "ipython",
    "version": 3
   },
   "file_extension": ".py",
   "mimetype": "text/x-python",
   "name": "python",
   "nbconvert_exporter": "python",
   "pygments_lexer": "ipython3",
   "version": "3.10.16"
  },
  "orig_nbformat": 4
 },
 "nbformat": 4,
 "nbformat_minor": 2
}
